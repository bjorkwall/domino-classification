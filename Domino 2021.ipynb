{
 "cells": [
  {
   "cell_type": "markdown",
   "id": "5484522a",
   "metadata": {},
   "source": [
    "# Domino classification with a CNN\n",
    "This project is about classifying domino tiles. I have taken 100 photos of all different versions of dominos from 0 to 6 - and resized the photos to 100x100px using an image editor (outside of this code and already in the data). The idea was to classify each of the 28 versions of domino tiles. \n",
    " "
   ]
  },
  {
   "cell_type": "code",
   "execution_count": 1,
   "id": "63d71ea5",
   "metadata": {},
   "outputs": [],
   "source": [
    "import numpy as np\n",
    "import os # Working with files and folders\n",
    "import matplotlib.pyplot as plt\n",
    "import seaborn as sns\n",
    "from sklearn.model_selection import train_test_split\n",
    "\n",
    "from PIL import Image, ImageEnhance, ImageFilter, ImageOps # Image processing\n",
    "\n",
    "from tensorflow.keras.utils import to_categorical\n",
    "from tensorflow.keras.callbacks import EarlyStopping\n",
    "from tensorflow.keras import layers\n",
    "from tensorflow.keras import Sequential"
   ]
  },
  {
   "cell_type": "code",
   "execution_count": 2,
   "id": "7a26f66d",
   "metadata": {},
   "outputs": [
    {
     "name": "stdout",
     "output_type": "stream",
     "text": [
      "/Users/Christoffer/Dropbox/Projekt/Machine Learning/Mina projekt/domino\n"
     ]
    }
   ],
   "source": [
    "rootdir = os.getcwd()\n",
    "print(rootdir)\n",
    "image_dir = rootdir + '/data'"
   ]
  },
  {
   "cell_type": "markdown",
   "id": "bce73a75",
   "metadata": {},
   "source": [
    "## Image processing functions"
   ]
  },
  {
   "cell_type": "code",
   "execution_count": 3,
   "id": "23f678ba",
   "metadata": {},
   "outputs": [],
   "source": [
    "# Crops image from size 100,100 to size sq_size, sq_size\n",
    "def crop_image(im, sq_size):\n",
    "  new_width = sq_size\n",
    "  new_height = sq_size\n",
    "  width, height = im.size   # Get dimensions \n",
    "  left = (width - new_width)/2\n",
    "  top = (height - new_height)/2\n",
    "  right = (width + new_width)/2\n",
    "  bottom = (height + new_height)/2\n",
    "  imc = im.crop((left, top, right, bottom))\n",
    "  return imc \n",
    "\n",
    "# Image augmentation by rotating images\n",
    "def rotated_images(im):\n",
    "    im_list = [im]\n",
    "    im_list.append(im.rotate(45))\n",
    "    im_list.append(im.rotate(90))\n",
    "    im_list.append(im.rotate(135))    \n",
    "    im_list.append(im.rotate(180))\n",
    "    im_list.append(im.rotate(225))    \n",
    "    im_list.append(im.rotate(270))\n",
    "    im_list.append(im.rotate(315))    \n",
    "    return im_list\n",
    "\n",
    "# Image augmentation by inverting image\n",
    "def invert_images(im_list):\n",
    "    inverted_im_list = []\n",
    "    for im in im_list:\n",
    "        inverted_im_list.append(im)\n",
    "        inverted_im_list.append(ImageOps.invert(im))\n",
    "    return inverted_im_list\n",
    "\n",
    "# Image enhancement in order to remove noise and extract features\n",
    "def enhance_image(im):\n",
    "    im = im.convert('L') # Turns black/white\n",
    "    im = im.filter(ImageFilter.CONTOUR) # Enhances contours\n",
    "    c_enhancer = ImageEnhance.Contrast(im)\n",
    "    im = c_enhancer.enhance(5) # Enhances contrast\n",
    "    b_enhancer = ImageEnhance.Brightness(im)\n",
    "    im = b_enhancer.enhance(1.2) # Enhances brightness\n",
    "    return im"
   ]
  },
  {
   "cell_type": "markdown",
   "id": "7974e22f",
   "metadata": {},
   "source": [
    "\n",
    "### Sample image for image processing"
   ]
  },
  {
   "cell_type": "markdown",
   "id": "c402f179",
   "metadata": {},
   "source": [
    "In order to test different image enhancements and filters I have used the following code to review a sample photo with different types of code."
   ]
  },
  {
   "cell_type": "code",
   "execution_count": 4,
   "id": "cbab4463",
   "metadata": {},
   "outputs": [
    {
     "name": "stdout",
     "output_type": "stream",
     "text": [
      "Image size: (100, 100)\n"
     ]
    },
    {
     "data": {
      "text/plain": [
       "<matplotlib.image.AxesImage at 0x151eb65b0>"
      ]
     },
     "execution_count": 4,
     "metadata": {},
     "output_type": "execute_result"
    },
    {
     "data": {
      "image/png": "[encoded data removed]",
      "text/plain": [
       "<Figure size 432x288 with 1 Axes>"
      ]
     },
     "metadata": {
      "needs_background": "light"
     },
     "output_type": "display_data"
    }
   ],
   "source": [
    "example_folder = '/3x3/'\n",
    "example_image = '20180505_181945.jpg'\n",
    "im = Image.open(os.path.join(image_dir + example_folder, example_image))\n",
    "print(\"Image size:\", im.size)\n",
    "#im = im.rotate(45)\n",
    "#im = Image.open(os.path.join(image_dir + \"/3x3/\", example_image))\n",
    "#plt.imshow(im)\n",
    "#rotated_image_list = rotated_images(im)\n",
    "#rotandinv_list = invert_images(rotated_image_list)\n",
    "#print(\"Augmented images: \", len(rotandinv_list))\n",
    "#for r_im in rotandinv_list:\n",
    "#    plt.imshow(r_im)\n",
    "#    plt.show()\n",
    "im = enhance_image(im)\n",
    "plt.imshow(im, cmap='gray', vmin=0, vmax=255)"
   ]
  },
  {
   "cell_type": "markdown",
   "id": "126a02f8",
   "metadata": {},
   "source": [
    "## Data augmentation (image processing) - and target feature extraction\n",
    "As there is only 100 images per class, there is a strong need for data augmentation by image processing. The images are:\n",
    "\n",
    "- **Enhanced** (contrast, brightness, contour enhancement etc) in order to remove unnecessary background information and enhance informative features more likely to improve classification\n",
    "- **Cropped** (from 100 to <im_squared_size> px): Most photos are taken from a bit afar. By cropping the image we remove unnecessary background information, while also reducing data amount. Cropping to much, removes too much information and decreases accuracy (some photos are taken at closer range).\n",
    "- **Rotated**: Photos of the domino tiles are taken with different rotations so rotating images are an easy way of augmenting more data. Rotations of 45 degrees adds an unfortunate 'frame-like' anomaly but doing so still improves classification.\n",
    "- **Inverted**: Inverted images turn black to white and vice versa. In order for the model to learn necessary features and not the 'color information'.\n",
    "\n",
    "The target feature is taken from the directory name which holds the key to all the photos inside (e.g. folder '3x3' all have photos of 3x3-tiles)."
   ]
  },
  {
   "cell_type": "code",
   "execution_count": 5,
   "id": "4204d3c5",
   "metadata": {},
   "outputs": [],
   "source": [
    "X = []\n",
    "y = []\n",
    "im_squared_size = 80 # Cropped image size\n",
    "\n",
    "for subdir, dirs, files in os.walk(image_dir):\n",
    "    dir_name = subdir.split(\"/\")[-1] # Retrieve directory name, i.e. the target feature\n",
    "    if dir_name and len(dir_name) == 3 and \"x\" in dir_name: # Double check that it is a valid target feature name\n",
    "        #print(\"Dir name:\", dir_name)\n",
    "        for filename in files:            \n",
    "            im = Image.open(os.path.join(image_dir + \"/\" + dir_name + \"/\", filename))\n",
    "            if im.size == (100,100): # Some photos have not been resized properly, ignore those.\n",
    "                im = crop_image(im, im_squared_size) # Crops image\n",
    "                im = enhance_image(im) # Enhances image\n",
    "                \n",
    "                # Create extra data with rotated images of every image\n",
    "                rotated_images_list = rotated_images(im) \n",
    "                \n",
    "                # Inverts every image in image_list (and thus doubles data size)\n",
    "                rotated_inverted_list = invert_images(rotated_images_list) \n",
    "                \n",
    "                for aug_image in rotated_inverted_list:\n",
    "                    y.append(dir_name)\n",
    "                    im_arr = np.array(aug_image)\n",
    "                    X.append(im_arr)                \n",
    "\n",
    "# Turns to numpy arrays            \n",
    "X = np.array(X)\n",
    "y_string_keys = np.array(y)                "
   ]
  },
  {
   "cell_type": "code",
   "execution_count": 6,
   "id": "ce1d621c",
   "metadata": {},
   "outputs": [
    {
     "name": "stdout",
     "output_type": "stream",
     "text": [
      "Data size:  44736\n"
     ]
    }
   ],
   "source": [
    "X = X.astype(\"float32\") / 255 # Pixel value needs to be between 0 and 1\n",
    "X = np.expand_dims(X, -1) \n",
    "print(\"Data size: \", X.shape[0])"
   ]
  },
  {
   "cell_type": "code",
   "execution_count": 7,
   "id": "510eacc9",
   "metadata": {},
   "outputs": [
    {
     "name": "stdout",
     "output_type": "stream",
     "text": [
      "Num classes:  28\n"
     ]
    }
   ],
   "source": [
    "num_classes = len(np.unique(y_string_keys))\n",
    "print(\"Num classes: \", num_classes)"
   ]
  },
  {
   "cell_type": "code",
   "execution_count": 8,
   "id": "0a95eb2f",
   "metadata": {},
   "outputs": [
    {
     "name": "stdout",
     "output_type": "stream",
     "text": [
      "Labels {0: '0x0', 1: '1x0', 2: '1x1', 3: '2x0', 4: '2x1', 5: '2x2', 6: '3x0', 7: '3x1', 8: '3x2', 9: '3x3', 10: '4x0', 11: '4x1', 12: '4x2', 13: '4x3', 14: '4x4', 15: '5x0', 16: '5x1', 17: '5x2', 18: '5x3', 19: '5x4', 20: '5x5', 21: '6x0', 22: '6x1', 23: '6x2', 24: '6x3', 25: '6x4', 26: '6x5', 27: '6x6'}\n"
     ]
    }
   ],
   "source": [
    "# Transfer target key from string (e.g. '2x1') to number (index in labels_list)\n",
    "y_number_keys = []\n",
    "labels = dict(enumerate(np.unique(y_string_keys).flatten(), 0))\n",
    "print(\"Labels\", labels)\n",
    "val_list = list(labels.values())\n",
    "for i,val in enumerate(y_string_keys):\n",
    "    y_number_keys.append(int(val_list.index(val)))"
   ]
  },
  {
   "cell_type": "code",
   "execution_count": 9,
   "id": "3abf978f",
   "metadata": {},
   "outputs": [],
   "source": [
    "# Transfer target key from number to one hot encoded array\n",
    "y = to_categorical(y_number_keys, num_classes)"
   ]
  },
  {
   "cell_type": "code",
   "execution_count": 10,
   "id": "51278ccf",
   "metadata": {},
   "outputs": [
    {
     "name": "stdout",
     "output_type": "stream",
     "text": [
      "Train images:  (35788, 80, 80, 1)\n",
      "Test images:  8948\n"
     ]
    }
   ],
   "source": [
    "X_train, X_test, y_train, y_test = train_test_split(X, y, test_size=0.2, random_state=42, stratify=y)\n",
    "print(\"Train images: \", X_train.shape)\n",
    "print(\"Test images: \", X_test.shape[0])"
   ]
  },
  {
   "cell_type": "markdown",
   "id": "409fb093",
   "metadata": {},
   "source": [
    "### Test samples from augmented data"
   ]
  },
  {
   "cell_type": "code",
   "execution_count": 11,
   "id": "89e6e14e",
   "metadata": {},
   "outputs": [
    {
     "data": {
      "image/png": "[encoded data removed]",
      "text/plain": [
       "<Figure size 432x288 with 1 Axes>"
      ]
     },
     "metadata": {
      "needs_background": "light"
     },
     "output_type": "display_data"
    },
    {
     "data": {
      "image/png": "[encoded data removed]",
      "text/plain": [
       "<Figure size 432x288 with 1 Axes>"
      ]
     },
     "metadata": {
      "needs_background": "light"
     },
     "output_type": "display_data"
    },
    {
     "data": {
      "image/png": "[encoded data removed]",
      "text/plain": [
       "<Figure size 432x288 with 1 Axes>"
      ]
     },
     "metadata": {
      "needs_background": "light"
     },
     "output_type": "display_data"
    },
    {
     "data": {
      "image/png": "[encoded data removed]",
      "text/plain": [
       "<Figure size 432x288 with 1 Axes>"
      ]
     },
     "metadata": {
      "needs_background": "light"
     },
     "output_type": "display_data"
    },
    {
     "data": {
      "image/png": "[encoded data removed]",
      "text/plain": [
       "<Figure size 432x288 with 1 Axes>"
      ]
     },
     "metadata": {
      "needs_background": "light"
     },
     "output_type": "display_data"
    }
   ],
   "source": [
    "# Look at test samples\n",
    "samples = np.random.choice(len(X_test), 5)\n",
    "for i, prediction in enumerate(samples):    \n",
    "    #print(np.argmax(prediction), labels[np.argmax(prediction)])\n",
    "    X_test[samples[i]]\n",
    "    plt.imshow(X_test[samples[i]], cmap='gray')\n",
    "    plt.xlabel(labels[np.argmax(y_test[samples[i]])])\n",
    "    plt.show()"
   ]
  },
  {
   "cell_type": "markdown",
   "id": "8c6870b3",
   "metadata": {},
   "source": [
    "# Model"
   ]
  },
  {
   "cell_type": "code",
   "execution_count": 12,
   "id": "53c60cfb",
   "metadata": {},
   "outputs": [
    {
     "name": "stdout",
     "output_type": "stream",
     "text": [
      "Metal device set to: Apple M1\n",
      "Model: \"sequential\"\n",
      "_________________________________________________________________\n",
      "Layer (type)                 Output Shape              Param #   \n",
      "=================================================================\n",
      "conv2d (Conv2D)              (None, 78, 78, 32)        320       \n",
      "_________________________________________________________________\n",
      "max_pooling2d (MaxPooling2D) (None, 39, 39, 32)        0         \n",
      "_________________________________________________________________\n",
      "conv2d_1 (Conv2D)            (None, 37, 37, 64)        18496     \n",
      "_________________________________________________________________\n",
      "max_pooling2d_1 (MaxPooling2 (None, 18, 18, 64)        0         \n",
      "_________________________________________________________________\n",
      "conv2d_2 (Conv2D)            (None, 16, 16, 128)       73856     \n",
      "_________________________________________________________________\n",
      "max_pooling2d_2 (MaxPooling2 (None, 8, 8, 128)         0         \n",
      "_________________________________________________________________\n",
      "conv2d_3 (Conv2D)            (None, 6, 6, 128)         147584    \n",
      "_________________________________________________________________\n",
      "max_pooling2d_3 (MaxPooling2 (None, 3, 3, 128)         0         \n",
      "_________________________________________________________________\n",
      "flatten (Flatten)            (None, 1152)              0         \n",
      "_________________________________________________________________\n",
      "dropout (Dropout)            (None, 1152)              0         \n",
      "_________________________________________________________________\n",
      "dense (Dense)                (None, 256)               295168    \n",
      "_________________________________________________________________\n",
      "dense_1 (Dense)              (None, 28)                7196      \n",
      "=================================================================\n",
      "Total params: 542,620\n",
      "Trainable params: 542,620\n",
      "Non-trainable params: 0\n",
      "_________________________________________________________________\n"
     ]
    },
    {
     "name": "stderr",
     "output_type": "stream",
     "text": [
      "2021-11-05 09:14:52.500924: I tensorflow/core/common_runtime/pluggable_device/pluggable_device_factory.cc:305] Could not identify NUMA node of platform GPU ID 0, defaulting to 0. Your kernel may not have been built with NUMA support.\n",
      "2021-11-05 09:14:52.501048: I tensorflow/core/common_runtime/pluggable_device/pluggable_device_factory.cc:271] Created TensorFlow device (/job:localhost/replica:0/task:0/device:GPU:0 with 0 MB memory) -> physical PluggableDevice (device: 0, name: METAL, pci bus id: <undefined>)\n"
     ]
    }
   ],
   "source": [
    "input_shape = (im_squared_size,im_squared_size,1)\n",
    "\n",
    "model = Sequential()\n",
    "\n",
    "model.add(layers.Conv2D(32, (3, 3), activation='relu', input_shape=input_shape))\n",
    "model.add(layers.MaxPooling2D((2, 2)))\n",
    "model.add(layers.Conv2D(64, (3, 3), activation='relu'))\n",
    "model.add(layers.MaxPooling2D((2, 2)))\n",
    "model.add(layers.Conv2D(128, (3, 3), activation='relu'))\n",
    "model.add(layers.MaxPooling2D((2, 2)))\n",
    "model.add(layers.Conv2D(128, (3, 3), activation='relu'))\n",
    "model.add(layers.MaxPooling2D((2, 2)))\n",
    "model.add(layers.Flatten())\n",
    "model.add(layers.Dropout(0.3))\n",
    "model.add(layers.Dense(256, activation='relu'))\n",
    "model.add(layers.Dense(num_classes, activation='softmax'))\n",
    "\n",
    "model.summary()"
   ]
  },
  {
   "cell_type": "code",
   "execution_count": null,
   "id": "2a1f3901",
   "metadata": {},
   "outputs": [
    {
     "name": "stderr",
     "output_type": "stream",
     "text": [
      "2021-11-05 09:14:52.878892: I tensorflow/compiler/mlir/mlir_graph_optimization_pass.cc:185] None of the MLIR Optimization Passes are enabled (registered 2)\n",
      "2021-11-05 09:14:52.879074: W tensorflow/core/platform/profile_utils/cpu_utils.cc:128] Failed to get CPU frequency: 0 Hz\n",
      "2021-11-05 09:14:53.072425: I tensorflow/core/grappler/optimizers/custom_graph_optimizer_registry.cc:112] Plugin optimizer for device_type GPU is enabled.\n"
     ]
    },
    {
     "name": "stdout",
     "output_type": "stream",
     "text": [
      "Epoch 1/20\n",
      "1006/1007 [============================>.] - ETA: 0s - loss: 2.4458 - accuracy: 0.2155"
     ]
    },
    {
     "name": "stderr",
     "output_type": "stream",
     "text": [
      "2021-11-05 09:15:16.408230: I tensorflow/core/grappler/optimizers/custom_graph_optimizer_registry.cc:112] Plugin optimizer for device_type GPU is enabled.\n"
     ]
    },
    {
     "name": "stdout",
     "output_type": "stream",
     "text": [
      "1007/1007 [==============================] - 25s 24ms/step - loss: 2.4455 - accuracy: 0.2155 - val_loss: 1.3022 - val_accuracy: 0.5418\n",
      "Epoch 2/20\n",
      "1007/1007 [==============================] - 24s 24ms/step - loss: 0.8766 - accuracy: 0.6990 - val_loss: 0.3508 - val_accuracy: 0.8882\n",
      "Epoch 3/20\n",
      "1007/1007 [==============================] - 24s 24ms/step - loss: 0.3749 - accuracy: 0.8725 - val_loss: 0.2263 - val_accuracy: 0.9243\n",
      "Epoch 4/20\n",
      "1007/1007 [==============================] - 24s 24ms/step - loss: 0.2134 - accuracy: 0.9282 - val_loss: 0.1213 - val_accuracy: 0.9634\n",
      "Epoch 5/20\n",
      "1007/1007 [==============================] - 24s 24ms/step - loss: 0.1478 - accuracy: 0.9504 - val_loss: 0.1147 - val_accuracy: 0.9651\n",
      "Epoch 6/20\n",
      "1007/1007 [==============================] - 24s 24ms/step - loss: 0.1112 - accuracy: 0.9625 - val_loss: 0.0707 - val_accuracy: 0.9799\n",
      "Epoch 7/20\n",
      "1007/1007 [==============================] - 24s 24ms/step - loss: 0.0928 - accuracy: 0.9694 - val_loss: 0.0770 - val_accuracy: 0.9757\n",
      "Epoch 8/20\n",
      "1007/1007 [==============================] - 24s 24ms/step - loss: 0.0729 - accuracy: 0.9756 - val_loss: 0.0713 - val_accuracy: 0.9793\n",
      "Epoch 9/20\n",
      "1007/1007 [==============================] - 24s 24ms/step - loss: 0.0670 - accuracy: 0.9776 - val_loss: 0.1223 - val_accuracy: 0.9648\n",
      "Epoch 10/20\n",
      "1007/1007 [==============================] - 24s 24ms/step - loss: 0.0547 - accuracy: 0.9820 - val_loss: 0.0576 - val_accuracy: 0.9779\n",
      "Epoch 11/20\n",
      "1007/1007 [==============================] - 24s 24ms/step - loss: 0.0546 - accuracy: 0.9812 - val_loss: 0.0634 - val_accuracy: 0.9810\n",
      "Epoch 12/20\n",
      "1007/1007 [==============================] - 24s 24ms/step - loss: 0.0441 - accuracy: 0.9860 - val_loss: 0.0373 - val_accuracy: 0.9880\n",
      "Epoch 13/20\n",
      "1007/1007 [==============================] - 24s 24ms/step - loss: 0.0422 - accuracy: 0.9864 - val_loss: 0.0415 - val_accuracy: 0.9860\n",
      "Epoch 14/20\n",
      "1007/1007 [==============================] - 25s 25ms/step - loss: 0.0365 - accuracy: 0.9886 - val_loss: 0.0302 - val_accuracy: 0.9908\n",
      "Epoch 15/20\n",
      "1007/1007 [==============================] - 24s 24ms/step - loss: 0.0373 - accuracy: 0.9875 - val_loss: 0.0432 - val_accuracy: 0.9874\n",
      "Epoch 16/20\n",
      "1007/1007 [==============================] - 24s 24ms/step - loss: 0.0346 - accuracy: 0.9897 - val_loss: 0.0406 - val_accuracy: 0.9877\n",
      "Epoch 17/20\n",
      "1007/1007 [==============================] - 24s 24ms/step - loss: 0.0333 - accuracy: 0.9895 - val_loss: 0.0323 - val_accuracy: 0.9905\n",
      "Epoch 18/20\n",
      "1007/1007 [==============================] - 24s 24ms/step - loss: 0.0310 - accuracy: 0.9903 - val_loss: 0.0254 - val_accuracy: 0.9919\n",
      "Epoch 19/20\n",
      "1007/1007 [==============================] - 24s 24ms/step - loss: 0.0330 - accuracy: 0.9905 - val_loss: 0.0375 - val_accuracy: 0.9863\n",
      "Epoch 20/20\n",
      " 774/1007 [======================>.......] - ETA: 5s - loss: 0.0330 - accuracy: 0.9895"
     ]
    }
   ],
   "source": [
    "es = EarlyStopping(monitor='val_loss', patience=5)\n",
    "model.compile(loss=\"categorical_crossentropy\", optimizer='Adam', metrics=[\"accuracy\"])\n",
    "model.fit(X_train, y_train, validation_split=0.1, epochs=20, callbacks=[es])\n"
   ]
  },
  {
   "cell_type": "code",
   "execution_count": null,
   "id": "b4985404",
   "metadata": {},
   "outputs": [],
   "source": [
    "scores = model.evaluate(X_test, y_test)\n",
    "print(\"Model accuracy: {:.2%}\".format(scores[1]))\n",
    "print(\"Baseline guess accuracy: {:.2%}\".format(1/num_classes))\n",
    "print(\"Better than guessing: {}x\".format((scores[1] /(1/num_classes))))"
   ]
  },
  {
   "cell_type": "markdown",
   "id": "a855afe2",
   "metadata": {},
   "source": [
    "# Result visualization"
   ]
  },
  {
   "cell_type": "code",
   "execution_count": null,
   "id": "44559f64",
   "metadata": {},
   "outputs": [],
   "source": [
    "from sklearn.metrics import confusion_matrix\n",
    "y_pred = model.predict(X_test)\n",
    "y_pred_classes = []\n",
    "y_test_classes = []\n",
    "for y in y_pred:\n",
    "    y_pred_classes.append(labels[np.argmax(y)])\n",
    "for y in y_test:\n",
    "    y_test_classes.append(labels[np.argmax(y)])\n",
    "cf_matrix = confusion_matrix(y_test_classes, y_pred_classes)\n",
    "\n",
    "fig = plt.figure(figsize=(16,16))\n",
    "cfmap = sns.heatmap(cf_matrix, yticklabels=list(labels.values()), xticklabels=list(labels.values()), annot=True, cmap='Blues', )\n",
    "cfmap.set(xlabel=\"Predicted\", ylabel=\"True\", title=\"Confusion matrix\")\n",
    "plt.show()"
   ]
  },
  {
   "cell_type": "markdown",
   "id": "2042ad83",
   "metadata": {},
   "source": [
    "### Sampled test predictions"
   ]
  },
  {
   "cell_type": "code",
   "execution_count": null,
   "id": "6b3fe66f",
   "metadata": {},
   "outputs": [],
   "source": [
    "\n",
    "samples = np.random.choice(len(y_test), 5)\n",
    "samples_to_predict = []\n",
    "for sample in samples:\n",
    "    samples_to_predict.append(X_test[sample])\n",
    "    #print(y_test[sample])\n",
    "\n",
    "predictions = model.predict(np.array(samples_to_predict))\n",
    "\n",
    "for i, prediction in enumerate(predictions):    \n",
    "    #print(np.argmax(prediction), labels[np.argmax(prediction)])\n",
    "    plt.imshow(X_test[samples[i]], cmap='gray')\n",
    "    plt.xlabel(\"Prediction: \" + labels[np.argmax(prediction)])\n",
    "    plt.show()"
   ]
  },
  {
   "cell_type": "markdown",
   "id": "48efdef1",
   "metadata": {},
   "source": [
    "## Conclusions on work and results"
   ]
  },
  {
   "cell_type": "markdown",
   "id": "664d6409",
   "metadata": {},
   "source": [
    "The accuracy of the model is nearly 100%. The confusions are between tiles of similar amount of dots, which makes sense. \n",
    "\n",
    "During the development I have made the following conclusions:\n",
    "\n",
    "- When I started off with the model I did not use a large enough neural network with only one Convolutional layer which made the accuracy barely better than a random guess. After reviewing https://www.kaggle.com/christoffer/domino-recognition I added more convolutional layers (as well as Maxpooling layers) which made a great positive diffence. I have not been able to improve on Christoffer's NN-setup. \n",
    "\n",
    "- Adding/removing inversion of images changed accuracy approximately 4%-units (96 to ~100%).\n",
    "\n",
    "- Adding 45-degree rotations of the images did improve accuracy but not by much (99.0 with 45 degree rotations, 98.0 without 45 degree and 4 times less data)\n",
    "\n",
    "- Cropping has a rather large impact on accuracy. Not cropping adds to much unnecessary data, cropping to much removes important data. 80px was shown to be a sweet spot.\n",
    "\n",
    "- Removing data augmentation completely reduced accuracy from ~100% to about 65%\n",
    "\n"
   ]
  },
  {
   "cell_type": "markdown",
   "id": "aa16c230",
   "metadata": {},
   "source": [
    "### Credits\n",
    "Thanks to https://www.kaggle.com/christoffer/ for providing a NN-setup."
   ]
  }
 ],
 "metadata": {
  "kernelspec": {
   "display_name": "deeplearning",
   "language": "python",
   "name": "deeplearning"
  },
  "language_info": {
   "codemirror_mode": {
    "name": "ipython",
    "version": 3
   },
   "file_extension": ".py",
   "mimetype": "text/x-python",
   "name": "python",
   "nbconvert_exporter": "python",
   "pygments_lexer": "ipython3",
   "version": "3.8.12"
  }
 },
 "nbformat": 4,
 "nbformat_minor": 5
}
